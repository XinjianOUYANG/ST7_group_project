{
 "cells": [
  {
   "cell_type": "markdown",
   "metadata": {},
   "source": [
    "# Deep residual network（ResNet）\n",
    "\n",
    "[Introduction about ResNet](https://zhuanlan.zhihu.com/p/31852747)\n",
    "\n",
    "[ResNet Wiki](https://en.wikipedia.org/wiki/Residual_neural_network)"
   ]
  },
  {
   "cell_type": "code",
   "execution_count": 1,
   "metadata": {},
   "outputs": [],
   "source": [
    "import matplotlib.pyplot as plt\n",
    "import pandas as pd\n",
    "import numpy as np\n",
    "\n",
    "import tensorflow as tf\n",
    "from tensorflow.keras.layers import *\n",
    "from tensorflow.python.lib.io import file_io\n",
    "\n",
    "%matplotlib inline\n",
    "\n",
    "import keras\n",
    "from keras import backend as K\n",
    "from keras.callbacks import ModelCheckpoint, EarlyStopping\n",
    "from keras.models import load_model\n",
    "from keras.preprocessing.image import ImageDataGenerator\n",
    "from keras_vggface.vggface import VGGFace\n",
    "from keras.utils import plot_model\n",
    "from sklearn.metrics import *\n",
    "from keras.engine import Model\n",
    "from keras.layers import Input, Flatten, Dense, Activation, Conv2D, MaxPool2D, BatchNormalization, Dropout, MaxPooling2D\n",
    "\n",
    "import skimage\n",
    "from skimage.transform import rescale, resize\n",
    "\n",
    "import pydot"
   ]
  },
  {
   "cell_type": "code",
   "execution_count": 2,
   "metadata": {},
   "outputs": [
    {
     "name": "stdout",
     "output_type": "stream",
     "text": [
      "Importing successfully!\n",
      "tensorflow 2.3.0\n",
      "tensorflow.keras 2.4.0\n",
      "keras 2.4.3\n",
      "GPU [PhysicalDevice(name='/physical_device:GPU:0', device_type='GPU')]\n"
     ]
    }
   ],
   "source": [
    "import os\n",
    "\n",
    "# os.environ['CUDA_VISIBLE_DEVICES'] = '-1'\n",
    "\n",
    "print('Importing successfully!')\n",
    "print('tensorflow',tf.__version__)\n",
    "print('tensorflow.keras',tf.keras.__version__)\n",
    "print('keras',keras.__version__)\n",
    "print('GPU',tf.config.list_physical_devices('GPU'))"
   ]
  },
  {
   "cell_type": "markdown",
   "metadata": {},
   "source": [
    "# Parameter setting\n"
   ]
  },
  {
   "cell_type": "code",
   "execution_count": 3,
   "metadata": {},
   "outputs": [],
   "source": [
    "BS = 128\n",
    "DROPOUT_RATE = 0.5\n",
    "FROZEN_LAYER_NUM = 170\n",
    "\n",
    "ADAM_LEARNING_RATE = 0.001\n",
    "SGD_LEARNING_RATE = 0.01\n",
    "SGD_DECAY = 0.0001\n",
    "\n",
    "Resize_pixelsize = 197"
   ]
  },
  {
   "cell_type": "markdown",
   "metadata": {},
   "source": [
    "# Build Model"
   ]
  },
  {
   "cell_type": "code",
   "execution_count": 4,
   "metadata": {},
   "outputs": [],
   "source": [
    "vgg_notop = VGGFace(model='resnet50', include_top=False, input_shape=(Resize_pixelsize, Resize_pixelsize, 3), pooling='avg')\n",
    "\n",
    "last_layer = vgg_notop.get_layer('avg_pool').output\n",
    "\n",
    "x = Flatten(name='flatten')(last_layer)\n",
    "x = Dropout(DROPOUT_RATE)(x)\n",
    "x = Dense(4096, activation='relu', name='fc6')(x)\n",
    "x = Dropout(DROPOUT_RATE)(x)\n",
    "x = Dense(1024, activation='relu', name='fc7')(x)\n",
    "x = Dropout(DROPOUT_RATE)(x)"
   ]
  },
  {
   "cell_type": "code",
   "execution_count": 5,
   "metadata": {},
   "outputs": [],
   "source": [
    "batch_norm_indices = [2, 6, 9, 13, 14, 18, 21, 24, 28, 31, 34, 38, 41, 45, 46, 53, 56, 60, 63, 66, 70, 73, 76, 80, 83, 87, 88, 92, 95, 98, 102, 105, 108, 112, 115, 118, 122, 125, 128, 132, 135, 138, 142, 145, 149, 150, 154, 157, 160, 164, 167, 170]\n",
    "for i in range(FROZEN_LAYER_NUM):\n",
    "    if i not in batch_norm_indices:\n",
    "        vgg_notop.layers[i].trainable = False"
   ]
  },
  {
   "cell_type": "code",
   "execution_count": 6,
   "metadata": {},
   "outputs": [],
   "source": [
    "out = Dense(7, activation='softmax', name='classifier')(x)\n",
    "\n",
    "model = Model(vgg_notop.input, out)"
   ]
  },
  {
   "cell_type": "code",
   "execution_count": 7,
   "metadata": {},
   "outputs": [],
   "source": [
    "optim = keras.optimizers.Adam(lr=ADAM_LEARNING_RATE, beta_1=0.9, beta_2=0.999, epsilon=1e-08, decay=0.0)\n",
    "#optim = keras.optimizers.Adam(lr=0.0005, beta_1=0.9, beta_2=0.999, epsilon=1e-08, decay=0.0)\n",
    "sgd = keras.optimizers.SGD(lr=SGD_LEARNING_RATE, momentum=0.9, decay=SGD_DECAY, nesterov=True)\n",
    "rlrop = keras.callbacks.ReduceLROnPlateau(monitor='val_accuracy',mode='max',factor=0.5, patience=10, min_lr=0.00001, verbose=1)\n",
    "\n",
    "model.compile(optimizer=sgd, loss='categorical_crossentropy', metrics=['accuracy'])"
   ]
  },
  {
   "cell_type": "markdown",
   "metadata": {},
   "source": [
    "# ImageData Generator"
   ]
  },
  {
   "cell_type": "code",
   "execution_count": 8,
   "metadata": {},
   "outputs": [],
   "source": [
    "from tensorflow.keras.preprocessing.image import ImageDataGenerator\n",
    "\n",
    "def get_datagen(dataset, aug=False):\n",
    "    if aug:\n",
    "        datagen = ImageDataGenerator(\n",
    "                            rescale=1./255,\n",
    "                            featurewise_center=False,\n",
    "                            featurewise_std_normalization=False,\n",
    "                            rotation_range=10,\n",
    "                            width_shift_range=0.1,\n",
    "                            height_shift_range=0.1,\n",
    "                            zoom_range=0.1,\n",
    "                            horizontal_flip=True)\n",
    "    else:\n",
    "        datagen = ImageDataGenerator(rescale=1./255)\n",
    "\n",
    "    return datagen.flow_from_directory(\n",
    "            dataset,\n",
    "            target_size=(197, 197),\n",
    "            color_mode='rgb',\n",
    "            shuffle = True,\n",
    "            class_mode='categorical',\n",
    "            batch_size=BS)"
   ]
  },
  {
   "cell_type": "code",
   "execution_count": 9,
   "metadata": {},
   "outputs": [
    {
     "name": "stdout",
     "output_type": "stream",
     "text": [
      "Found 29903 images belonging to 7 classes.\n",
      "Found 3590 images belonging to 7 classes.\n",
      "Found 3589 images belonging to 7 classes.\n"
     ]
    }
   ],
   "source": [
    "train_generator  = get_datagen(\"/usr/users/gpupro/gprcsr1_1/Desktop/ST7_FER_Projet/FER_Dataset/train\", True)\n",
    "dev_generator    = get_datagen(\"/usr/users/gpupro/gprcsr1_1/Desktop/ST7_FER_Projet/FER_Dataset/test-private\")\n",
    "test_generator  = get_datagen(\"/usr/users/gpupro/gprcsr1_1/Desktop/ST7_FER_Projet/FER_Dataset/test-public\")"
   ]
  },
  {
   "cell_type": "markdown",
   "metadata": {},
   "source": [
    "# Train the Model"
   ]
  },
  {
   "cell_type": "code",
   "execution_count": null,
   "metadata": {},
   "outputs": [
    {
     "name": "stdout",
     "output_type": "stream",
     "text": [
      "WARNING:tensorflow:From <ipython-input-10-ae2a0970da9c>:11: Model.fit_generator (from tensorflow.python.keras.engine.training) is deprecated and will be removed in a future version.\n",
      "Instructions for updating:\n",
      "Please use Model.fit, which supports generators.\n",
      "Epoch 1/100\n",
      "224/224 [==============================] - 207s 925ms/step - loss: 1.8511 - accuracy: 0.3487 - val_loss: 1.9045 - val_accuracy: 0.1638\n",
      "Epoch 2/100\n",
      "224/224 [==============================] - 248s 1s/step - loss: 1.3639 - accuracy: 0.4854 - val_loss: 2.0066 - val_accuracy: 0.1780\n",
      "Epoch 3/100\n",
      "224/224 [==============================] - 203s 906ms/step - loss: 1.2615 - accuracy: 0.5245 - val_loss: 1.4588 - val_accuracy: 0.4413\n",
      "Epoch 4/100\n",
      "224/224 [==============================] - 218s 972ms/step - loss: 1.1919 - accuracy: 0.5523 - val_loss: 1.0969 - val_accuracy: 0.5964\n",
      "Epoch 5/100\n",
      "224/224 [==============================] - 198s 886ms/step - loss: 1.1504 - accuracy: 0.5693 - val_loss: 1.0323 - val_accuracy: 0.6218\n",
      "Epoch 6/100\n",
      "224/224 [==============================] - 203s 906ms/step - loss: 1.1116 - accuracy: 0.5839 - val_loss: 1.0006 - val_accuracy: 0.6319\n",
      "Epoch 7/100\n",
      "224/224 [==============================] - 198s 884ms/step - loss: 1.0692 - accuracy: 0.5990 - val_loss: 0.9873 - val_accuracy: 0.6322\n",
      "Epoch 8/100\n",
      "224/224 [==============================] - 202s 901ms/step - loss: 1.0575 - accuracy: 0.6042 - val_loss: 0.9712 - val_accuracy: 0.6464\n",
      "Epoch 9/100\n",
      "224/224 [==============================] - 199s 887ms/step - loss: 1.0424 - accuracy: 0.6130 - val_loss: 0.9631 - val_accuracy: 0.6467\n",
      "Epoch 10/100\n",
      "224/224 [==============================] - 197s 879ms/step - loss: 1.0203 - accuracy: 0.6179 - val_loss: 0.9690 - val_accuracy: 0.6458\n",
      "Epoch 11/100\n",
      "224/224 [==============================] - 198s 884ms/step - loss: 1.0128 - accuracy: 0.6233 - val_loss: 0.9661 - val_accuracy: 0.6496\n",
      "Epoch 12/100\n",
      "224/224 [==============================] - 287s 1s/step - loss: 0.9754 - accuracy: 0.6346 - val_loss: 0.9255 - val_accuracy: 0.6568\n",
      "Epoch 13/100\n",
      "224/224 [==============================] - 198s 883ms/step - loss: 0.9726 - accuracy: 0.6340 - val_loss: 0.9290 - val_accuracy: 0.6606\n",
      "Epoch 14/100\n",
      "224/224 [==============================] - 204s 913ms/step - loss: 0.9600 - accuracy: 0.6411 - val_loss: 0.9330 - val_accuracy: 0.6525\n",
      "Epoch 15/100\n",
      "224/224 [==============================] - 225s 1s/step - loss: 0.9412 - accuracy: 0.6461 - val_loss: 0.9327 - val_accuracy: 0.6661\n",
      "Epoch 16/100\n",
      "224/224 [==============================] - 212s 945ms/step - loss: 0.9340 - accuracy: 0.6508 - val_loss: 0.9171 - val_accuracy: 0.6681\n",
      "Epoch 17/100\n",
      "224/224 [==============================] - 210s 935ms/step - loss: 0.9193 - accuracy: 0.6539 - val_loss: 0.9114 - val_accuracy: 0.6710\n",
      "Epoch 18/100\n",
      "224/224 [==============================] - 209s 934ms/step - loss: 0.9074 - accuracy: 0.6604 - val_loss: 0.9059 - val_accuracy: 0.6768\n",
      "Epoch 19/100\n",
      "224/224 [==============================] - 210s 936ms/step - loss: 0.8938 - accuracy: 0.6631 - val_loss: 0.8947 - val_accuracy: 0.6745\n",
      "Epoch 20/100\n",
      "224/224 [==============================] - 210s 938ms/step - loss: 0.8863 - accuracy: 0.6629 - val_loss: 0.9022 - val_accuracy: 0.6765\n",
      "Epoch 21/100\n",
      "224/224 [==============================] - 215s 962ms/step - loss: 0.8717 - accuracy: 0.6718 - val_loss: 0.8980 - val_accuracy: 0.6866\n",
      "Epoch 22/100\n",
      "224/224 [==============================] - 221s 985ms/step - loss: 0.8760 - accuracy: 0.6704 - val_loss: 0.8841 - val_accuracy: 0.6849\n",
      "Epoch 23/100\n",
      "224/224 [==============================] - 214s 956ms/step - loss: 0.8596 - accuracy: 0.6747 - val_loss: 0.8838 - val_accuracy: 0.6837\n",
      "Epoch 24/100\n",
      "224/224 [==============================] - 211s 941ms/step - loss: 0.8467 - accuracy: 0.6803 - val_loss: 0.8776 - val_accuracy: 0.6884\n",
      "Epoch 25/100\n",
      "224/224 [==============================] - 208s 928ms/step - loss: 0.8415 - accuracy: 0.6819 - val_loss: 0.8912 - val_accuracy: 0.6751\n",
      "Epoch 26/100\n",
      "224/224 [==============================] - 209s 932ms/step - loss: 0.8371 - accuracy: 0.6856 - val_loss: 0.8827 - val_accuracy: 0.6800\n",
      "Epoch 27/100\n",
      "224/224 [==============================] - 249s 1s/step - loss: 0.8233 - accuracy: 0.6887 - val_loss: 0.8693 - val_accuracy: 0.6817\n",
      "Epoch 28/100\n",
      "224/224 [==============================] - 209s 934ms/step - loss: 0.8204 - accuracy: 0.6897 - val_loss: 0.8740 - val_accuracy: 0.6829\n",
      "Epoch 29/100\n",
      "224/224 [==============================] - 206s 920ms/step - loss: 0.8050 - accuracy: 0.6948 - val_loss: 0.8704 - val_accuracy: 0.6936\n",
      "Epoch 30/100\n",
      "224/224 [==============================] - 216s 963ms/step - loss: 0.8055 - accuracy: 0.6969 - val_loss: 0.8722 - val_accuracy: 0.6933\n",
      "Epoch 31/100\n",
      "224/224 [==============================] - 217s 968ms/step - loss: 0.7969 - accuracy: 0.6973 - val_loss: 0.8610 - val_accuracy: 0.6875\n",
      "Epoch 32/100\n",
      "224/224 [==============================] - 247s 1s/step - loss: 0.7892 - accuracy: 0.7021 - val_loss: 0.8556 - val_accuracy: 0.6933\n",
      "Epoch 33/100\n",
      "224/224 [==============================] - 230s 1s/step - loss: 0.7803 - accuracy: 0.7077 - val_loss: 0.8560 - val_accuracy: 0.6936\n",
      "Epoch 34/100\n",
      "224/224 [==============================] - 387s 2s/step - loss: 0.7736 - accuracy: 0.7103 - val_loss: 0.8575 - val_accuracy: 0.6939\n",
      "Epoch 35/100\n",
      "224/224 [==============================] - 307s 1s/step - loss: 0.7659 - accuracy: 0.7093 - val_loss: 0.8489 - val_accuracy: 0.6994\n",
      "Epoch 36/100\n",
      "224/224 [==============================] - 227s 1s/step - loss: 0.7586 - accuracy: 0.7139 - val_loss: 0.8529 - val_accuracy: 0.6944\n",
      "Epoch 37/100\n",
      "224/224 [==============================] - 214s 957ms/step - loss: 0.7456 - accuracy: 0.7168 - val_loss: 0.8423 - val_accuracy: 0.7052\n",
      "Epoch 38/100\n",
      "224/224 [==============================] - 217s 967ms/step - loss: 0.7451 - accuracy: 0.7206 - val_loss: 0.8419 - val_accuracy: 0.6962\n",
      "Epoch 39/100\n",
      "224/224 [==============================] - 250s 1s/step - loss: 0.7383 - accuracy: 0.7210 - val_loss: 0.8389 - val_accuracy: 0.7052\n",
      "Epoch 40/100\n",
      "224/224 [==============================] - 259s 1s/step - loss: 0.7341 - accuracy: 0.7220 - val_loss: 0.8407 - val_accuracy: 0.7069\n",
      "Epoch 41/100\n",
      "224/224 [==============================] - 213s 950ms/step - loss: 0.7265 - accuracy: 0.7229 - val_loss: 0.8369 - val_accuracy: 0.7005\n",
      "Epoch 42/100\n",
      "100/224 [============>.................] - ETA: 1:50 - loss: 0.7186 - accuracy: 0.7313"
     ]
    }
   ],
   "source": [
    "EPOCHS = 100\n",
    "\n",
    "history = model.fit_generator(\n",
    "    generator = train_generator,\n",
    "    validation_data=dev_generator, \n",
    "    steps_per_epoch=28709// BS,\n",
    "    validation_steps=3509 // BS,\n",
    "    shuffle=True,\n",
    "    epochs=EPOCHS,\n",
    "    callbacks=[rlrop],\n",
    "    use_multiprocessing=False,\n",
    ") "
   ]
  },
  {
   "cell_type": "markdown",
   "metadata": {},
   "source": [
    "# Evaluation"
   ]
  },
  {
   "cell_type": "code",
   "execution_count": null,
   "metadata": {},
   "outputs": [],
   "source": [
    "print('\\n# Evaluate on dev data')\n",
    "results_dev = model.evaluate_generator(dev_generator, 3509 // BS)\n",
    "print('dev loss, dev acc:', results_dev)"
   ]
  },
  {
   "cell_type": "code",
   "execution_count": null,
   "metadata": {},
   "outputs": [],
   "source": [
    "print('\\n# Evaluate on test data')\n",
    "results_test = model.evaluate_generator(test_generator, 3509 // BS)\n",
    "print('test loss, test acc:', results_test)"
   ]
  },
  {
   "cell_type": "code",
   "execution_count": null,
   "metadata": {},
   "outputs": [],
   "source": [
    "# list all data in history\n",
    "print(history.history.keys())\n",
    "# summarize history for accuracy\n",
    "plt.plot(history.history['accuracy'])\n",
    "plt.plot(history.history['val_accuracy'])\n",
    "plt.title('model accuracy')\n",
    "plt.ylabel('accuracy')\n",
    "plt.xlabel('epoch')\n",
    "plt.legend(['train', 'dev'], loc='upper left')\n",
    "plt.show()\n",
    "# summarize history for loss\n",
    "plt.plot(history.history['loss'])\n",
    "plt.plot(history.history['val_loss'])\n",
    "plt.title('model loss')\n",
    "plt.ylabel('loss')\n",
    "plt.xlabel('epoch')\n",
    "plt.legend(['train', 'dev'], loc='upper left')\n",
    "plt.show()"
   ]
  },
  {
   "cell_type": "markdown",
   "metadata": {},
   "source": [
    "# Save the Model"
   ]
  },
  {
   "cell_type": "code",
   "execution_count": null,
   "metadata": {},
   "outputs": [],
   "source": [
    "epoch_str = '-EPOCHS_' + str(EPOCHS)\n",
    "test_acc = 'test_acc_%.3f' % results_test[1]\n",
    "model.save('trained_models/' + 'RESNET50' + epoch_str + test_acc + '.h5')"
   ]
  },
  {
   "cell_type": "code",
   "execution_count": null,
   "metadata": {},
   "outputs": [],
   "source": []
  }
 ],
 "metadata": {
  "kernelspec": {
   "display_name": "tf2.3",
   "language": "python",
   "name": "ddsp0"
  },
  "language_info": {
   "codemirror_mode": {
    "name": "ipython",
    "version": 3
   },
   "file_extension": ".py",
   "mimetype": "text/x-python",
   "name": "python",
   "nbconvert_exporter": "python",
   "pygments_lexer": "ipython3",
   "version": "3.7.10"
  }
 },
 "nbformat": 4,
 "nbformat_minor": 4
}
